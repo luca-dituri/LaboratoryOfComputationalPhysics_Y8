{
 "cells": [
  {
   "cell_type": "markdown",
   "metadata": {},
   "source": [
    "0\\. Implement a function (whatever you want) and save it to a file (e.g. `function.py`). Import that file and use that function in this notebook.\n"
   ]
  },
  {
   "cell_type": "markdown",
   "metadata": {},
   "source": [
    "1\\. Write the following as a list comprehension"
   ]
  },
  {
   "cell_type": "code",
   "execution_count": 2,
   "metadata": {},
   "outputs": [
    {
     "data": {
      "text/plain": [
       "[(0, 0),\n",
       " (0, 1),\n",
       " (0, 2),\n",
       " (0, 3),\n",
       " (1, 0),\n",
       " (1, 1),\n",
       " (1, 2),\n",
       " (1, 3),\n",
       " (2, 0),\n",
       " (2, 1),\n",
       " (2, 2),\n",
       " (2, 3)]"
      ]
     },
     "execution_count": 2,
     "metadata": {},
     "output_type": "execute_result"
    }
   ],
   "source": [
    "[(i,j) for i in range(3) for j in range(4)]"
   ]
  },
  {
   "cell_type": "code",
   "execution_count": 8,
   "metadata": {},
   "outputs": [
    {
     "name": "stdout",
     "output_type": "stream",
     "text": [
      "[(0, 0), (0, 1), (0, 2), (0, 3), (1, 0), (1, 1), (1, 2), (1, 3), (2, 0), (2, 1), (2, 2), (2, 3)]\n",
      "La lista modificata è: [(0, 0), (0, 1), (0, 2), (0, 3), (1, 0), (1, 1), (1, 2), (1, 3), (2, 0), (2, 1), (2, 2), (2, 3)]\n",
      "[0, 4, 16]\n",
      "La seconda lista modificata è: [0, 4, 16]\n"
     ]
    }
   ],
   "source": [
    "# 1\n",
    "ans = []\n",
    "for i in range(3):\n",
    "    for j in range(4):\n",
    "        ans.append((i, j))\n",
    "print (ans)\n",
    "\n",
    "ans= [(i,j) for i in range(3) for j in range(4)]\n",
    "\n",
    "print(f\"La lista modificata è: {ans}\")\n",
    "\n",
    "# 2\n",
    "ans = map(lambda x: x*x, filter(lambda x: x%2 == 0, range(5)))\n",
    "print (list(ans))\n",
    "\n",
    "ans = [i**2 for i in range(5) if i%2 == 0]\n",
    "print(f\"La seconda lista modificata è: {ans}\")\n",
    "\n"
   ]
  },
  {
   "cell_type": "markdown",
   "metadata": {},
   "source": [
    "2\\. Convert the following function into a pure function with no global variables or side effects"
   ]
  },
  {
   "cell_type": "code",
   "execution_count": null,
   "metadata": {},
   "outputs": [],
   "source": [
    "x = 5\n",
    "def f(alist):\n",
    "    for i in range(x):\n",
    "         alist.append(i)\n",
    "    return alist\n",
    "\n",
    "alist = [1,2,3]\n",
    "ans = f(alist)\n",
    "print (ans)\n",
    "print (alist) # alist has been changed!"
   ]
  },
  {
   "cell_type": "code",
   "execution_count": null,
   "metadata": {},
   "outputs": [
    {
     "name": "stdout",
     "output_type": "stream",
     "text": [
      "[1, 2, 3, 0, 1, 2, 3, 4]\n",
      "[1, 2, 3]\n"
     ]
    }
   ],
   "source": [
    "import copy\n",
    "#uso copy per modificare il contenuto di una lista di partenza, ma senza modificarla\n",
    "def f(alist,y=5):\n",
    "    list = copy.copy(alist)\n",
    "    for i in range(y):\n",
    "         list.append(i)\n",
    "    return list\n",
    "\n",
    "alist = [1,2,3]\n",
    "ans = f(alist)\n",
    "print (ans)\n",
    "print (alist) # alist has been changed!"
   ]
  },
  {
   "cell_type": "markdown",
   "metadata": {},
   "source": [
    "3\\. Write a `decorator` hello that makes every wrapped function print “Hello!”, i.e. something like:\n",
    "\n",
    "```python\n",
    "@hello\n",
    "def square(x):\n",
    "    return x*x\n",
    "```\n",
    "\n"
   ]
  },
  {
   "cell_type": "code",
   "execution_count": 39,
   "metadata": {},
   "outputs": [],
   "source": [
    "def hello(func):\n",
    "    def wrapper(*args):\n",
    "        print(\"Hello!\")\n",
    "        func(args[0])\n",
    "    return(wrapper)\n",
    "\n",
    "@hello\n",
    "def square(x):\n",
    "    print(x**2)\n",
    "    return x**2\n"
   ]
  },
  {
   "cell_type": "code",
   "execution_count": 40,
   "metadata": {},
   "outputs": [
    {
     "name": "stdout",
     "output_type": "stream",
     "text": [
      "Hello!\n",
      "4\n"
     ]
    }
   ],
   "source": [
    "square(2)"
   ]
  },
  {
   "cell_type": "markdown",
   "metadata": {},
   "source": [
    "4\\. Write the factorial function so that it a) does and b) does not use recursion."
   ]
  },
  {
   "cell_type": "code",
   "execution_count": 53,
   "metadata": {},
   "outputs": [],
   "source": [
    "def factorial(n):\n",
    "    if(n<2):\n",
    "        return(1)\n",
    "    else:\n",
    "        return(factorial(n-1)*n)\n",
    "def nonrecfactorial(n):\n",
    "    res= 1\n",
    "    for i in range(1,n+1):\n",
    "        res = res*i\n",
    "    print(res)\n",
    "    return res"
   ]
  },
  {
   "cell_type": "code",
   "execution_count": 54,
   "metadata": {},
   "outputs": [
    {
     "name": "stdout",
     "output_type": "stream",
     "text": [
      "120\n"
     ]
    },
    {
     "data": {
      "text/plain": [
       "120"
      ]
     },
     "execution_count": 54,
     "metadata": {},
     "output_type": "execute_result"
    }
   ],
   "source": [
    "nonrecfactorial(5)"
   ]
  },
  {
   "cell_type": "markdown",
   "metadata": {},
   "source": [
    "5\\. Use HOFs (zip in particular) to compute the weight of a circle, a disk and a sphere, assuming different radii and different densities:\n",
    "\n",
    "```python\n",
    "densities = {\"Al\":[0.5,1,2],\"Fe\":[3,4,5],\"Pb\": [15,20,30]}\n",
    "radii = [1,2,3]\n",
    "```\n",
    "\n",
    "where the entries of the dictionary's values are the linear, superficial and volumetric densities of the materials respectively.\n",
    "\n",
    "In particular define a list of three lambda functions using a comprehension that computes the circumference, the area and the volume for a given radius.\n"
   ]
  },
  {
   "cell_type": "code",
   "execution_count": null,
   "metadata": {},
   "outputs": [],
   "source": [
    "densities = {\"Al\":[0.5,1,2],\"Fe\":[3,4,5],\"Pb\": [15,20,30]}\n",
    "radii = [1,2,3]\n",
    "densities.keys()\n",
    "den_val=list(densities.values())"
   ]
  },
  {
   "cell_type": "code",
   "execution_count": 33,
   "metadata": {},
   "outputs": [
    {
     "name": "stdout",
     "output_type": "stream",
     "text": [
      "([0.5, 1, 2], 1)\n",
      "([3, 4, 5], 2)\n",
      "([15, 20, 30], 3)\n"
     ]
    }
   ],
   "source": [
    "from math import pi as pi\n",
    "rad = radii[0]\n",
    "def perimeter(dens,rad):\n",
    "    return(2*pi*dens*rad)\n",
    "\n",
    "def area(dens,rad):\n",
    "    return(pi*rad*rad*dens)\n",
    "def volume(dens,rad):\n",
    "    return(4/3*pi*rad**3*dens)\n",
    "\n",
    "for a in zip(den_val,radii):\n",
    "    #print(f\"Le masse ottenute sono:{perimeter()}\")\n",
    "    print (a)"
   ]
  },
  {
   "cell_type": "code",
   "execution_count": null,
   "metadata": {},
   "outputs": [
    {
     "name": "stdout",
     "output_type": "stream",
     "text": [
      "<zip object at 0x71ae86ffbbc0>\n",
      "<zip object at 0x71ae86ffbbc0>\n",
      "<zip object at 0x71ae86ffbbc0>\n"
     ]
    }
   ],
   "source": [
    "\n"
   ]
  },
  {
   "cell_type": "code",
   "execution_count": null,
   "metadata": {},
   "outputs": [
    {
     "name": "stdout",
     "output_type": "stream",
     "text": [
      "Al:\n",
      "  r=1: circle=3.14, disk=3.14, sphere=8.38\n",
      "  r=2: circle=6.28, disk=12.57, sphere=67.02\n",
      "  r=3: circle=9.42, disk=28.27, sphere=226.19\n",
      "Fe:\n",
      "  r=1: circle=18.85, disk=12.57, sphere=20.94\n",
      "  r=2: circle=37.70, disk=50.27, sphere=167.55\n",
      "  r=3: circle=56.55, disk=113.10, sphere=565.49\n",
      "Pb:\n",
      "  r=1: circle=94.25, disk=62.83, sphere=125.66\n",
      "  r=2: circle=188.50, disk=251.33, sphere=1005.31\n",
      "  r=3: circle=282.74, disk=565.49, sphere=3392.92\n"
     ]
    }
   ],
   "source": [
    "#Chatty\n",
    "\n",
    "import math\n",
    "\n",
    "densities = {\"Al\":[0.5,1,2],\"Fe\":[3,4,5],\"Pb\": [15,20,30]}\n",
    "radii = [1,2,3]\n",
    "\n",
    "# 1. define geometry functions using a comprehension\n",
    "geom_funcs = [lambda r, f=f: f(r) for f in (\n",
    "    lambda r: 2*math.pi*r,          # circle (circumference)\n",
    "    lambda r: math.pi*r**2,         # disk (area)\n",
    "    lambda r: (4/3)*math.pi*r**3    # sphere (volume)\n",
    ")]\n",
    "\n",
    "# 2. compute weights\n",
    "weights = {\n",
    "    material: [             #crea copie di densità e funzione associata al tipo di densità\n",
    "        [dens * geom(r) for dens, geom in zip(densities[material], geom_funcs)] # associo alle tre diverse densità per ogni materiale, le tre diverse funzioni (perimetro, superfice, volume)\n",
    "        for r in radii #ciclo sui diversi raggi\n",
    "    ]\n",
    "    for material in densities #ciclo sui diversi materiali\n",
    "}\n",
    "\n",
    "for m, w in weights.items():\n",
    "    print(f\"{m}:\")\n",
    "    for radius, values in zip(radii, w):\n",
    "        print(f\"  r={radius}: circle={values[0]:.2f}, disk={values[1]:.2f}, sphere={values[2]:.2f}\")\n"
   ]
  },
  {
   "cell_type": "markdown",
   "metadata": {},
   "source": [
    "6\\. Edit the class defintion to add an instance attribute of is_hungry = True to the Dog class. Then add a method called eat() which changes the value of is_hungry to False when called. Figure out the best way to feed each dog and then output “My dogs are hungry.” if all are hungry or “My dogs are not hungry.” if all are not hungry. The final output should look like this:\n",
    "\n",
    "`I have 3 dogs. \n",
    "Tom is 6. \n",
    "Fletcher is 7. \n",
    "Larry is 9. \n",
    "And they're all mammals, of course. \n",
    "My dogs are not hungry.\n",
    "`"
   ]
  },
  {
   "cell_type": "code",
   "execution_count": 45,
   "metadata": {},
   "outputs": [
    {
     "name": "stdout",
     "output_type": "stream",
     "text": [
      "I have 3 dogs:\n",
      "Mizzica is 1.\n",
      "Peluzza is 4.\n",
      "Ficarra is 500.\n",
      "And they are all mammals.\n",
      "Fameeee\n"
     ]
    }
   ],
   "source": [
    "class Dog:\n",
    "\n",
    "    # Class attribute\n",
    "    species = 'mammal'\n",
    "    is_hungry = True\n",
    "\n",
    "    # Initializer / Instance attributes\n",
    "    def __init__(self, name, age):\n",
    "        self.name = name\n",
    "        self.age = age\n",
    "\n",
    "    # instance method\n",
    "    def description(self):\n",
    "        return \"{} is {} years old\".format(self.name, self.age)\n",
    "\n",
    "    # instance method\n",
    "    def speak(self, sound):\n",
    "        return \"{} says {}\".format(self.name, sound)\n",
    "    \n",
    "    def eat():\n",
    "        is_hungry = not is_hungry\n",
    "\n",
    "# Child class (inherits from Dog class)\n",
    "class RussellTerrier(Dog):\n",
    "    def run(self, speed):\n",
    "        return \"{} runs {}\".format(self.name, speed)\n",
    "\n",
    "# Child class (inherits from Dog class)\n",
    "class Bulldog(Dog):\n",
    "    def run(self, speed):\n",
    "        return \"{} runs {}\".format(self.name, speed)\n",
    "    \n",
    "\n",
    "dog_list = [\"Mizzica\", \"Peluzza\", \"Ficarra\"]\n",
    "ages = [1,4,500]\n",
    "cani = []\n",
    "for i,j in zip(dog_list,ages):\n",
    "    cani.append(Dog(i,j))\n",
    "print(f\"I have {len(cani)} dogs:\")\n",
    "affamati = []\n",
    "for i in cani:\n",
    "    print(f\"{i.name} is {i.age}.\")\n",
    "    if(i.is_hungry==False):\n",
    "        affamati.append(False)\n",
    "print(\"And they are all mammals.\")\n",
    "if all(affamati)==False:\n",
    "    print(\"My dogs are not hungry.\")\n",
    "else:\n",
    "    print(\"Fameeee\")\n"
   ]
  }
 ],
 "metadata": {
  "kernelspec": {
   "display_name": ".venv",
   "language": "python",
   "name": "python3"
  },
  "language_info": {
   "codemirror_mode": {
    "name": "ipython",
    "version": 3
   },
   "file_extension": ".py",
   "mimetype": "text/x-python",
   "name": "python",
   "nbconvert_exporter": "python",
   "pygments_lexer": "ipython3",
   "version": "3.12.3"
  }
 },
 "nbformat": 4,
 "nbformat_minor": 2
}
